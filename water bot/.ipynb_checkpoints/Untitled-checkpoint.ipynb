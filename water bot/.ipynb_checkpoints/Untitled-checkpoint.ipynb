{
 "cells": [
  {
   "cell_type": "code",
   "execution_count": 1,
   "id": "b18fa0dd-4868-4049-a998-a106e740d54e",
   "metadata": {},
   "outputs": [
    {
     "name": "stdout",
     "output_type": "stream",
     "text": [
      "Defaulting to user installation because normal site-packages is not writeable\n",
      "Requirement already satisfied: opencv-python in c:\\users\\phuttimate\\appdata\\roaming\\python\\python39\\site-packages (4.5.2.54)\n",
      "Requirement already satisfied: numpy>=1.19.3 in c:\\users\\phuttimate\\appdata\\roaming\\python\\python39\\site-packages (from opencv-python) (1.21.0)\n"
     ]
    },
    {
     "name": "stderr",
     "output_type": "stream",
     "text": [
      "WARNING: You are using pip version 21.3; however, version 21.3.1 is available.\n",
      "You should consider upgrading via the 'c:\\program files\\python39\\python.exe -m pip install --upgrade pip' command.\n"
     ]
    }
   ],
   "source": [
    "!pip install opencv-python"
   ]
  },
  {
   "cell_type": "code",
   "execution_count": 2,
   "id": "4980c8ff-6e0a-4f3f-93e5-a31794efe3bf",
   "metadata": {},
   "outputs": [],
   "source": [
    "import cv2\n",
    "import numpy as np\n",
    "import pyautogui, sys\n",
    "import time\n",
    "import win32api, win32con"
   ]
  },
  {
   "cell_type": "code",
   "execution_count": 3,
   "id": "8708d9a7-9d15-4b06-9cdf-0edbd65f7321",
   "metadata": {},
   "outputs": [],
   "source": [
    "def click():\n",
    "    win32api.mouse_event(win32con.MOUSEEVENTF_LEFTDOWN,0,0)\n",
    "    time.sleep(0.01)\n",
    "    win32api.mouse_event(win32con.MOUSEEVENTF_LEFTUP,0,0)\n",
    "    \n",
    "def Click (x,y) :\n",
    "    win32api.SetCursorPos((x,y))\n",
    "    click()\n",
    "    \n",
    "def Position():\n",
    "    print(pyautogui.position())"
   ]
  },
  {
   "cell_type": "code",
   "execution_count": 8,
   "id": "7a21fde9-c1fa-450a-a08c-34e3f6a3aa9a",
   "metadata": {},
   "outputs": [
    {
     "name": "stdout",
     "output_type": "stream",
     "text": [
      "Point(x=0, y=530)\n",
      "Point(x=0, y=530)\n",
      "Point(x=0, y=530)\n",
      "Point(x=0, y=530)\n",
      "Point(x=0, y=530)\n",
      "Point(x=0, y=530)\n",
      "Point(x=0, y=530)\n",
      "Point(x=0, y=530)\n",
      "Point(x=0, y=530)\n",
      "Point(x=0, y=530)\n"
     ]
    }
   ],
   "source": [
    "i = 0\n",
    "time.sleep(2)\n",
    "while(i<10):\n",
    "    time.sleep(0.01)\n",
    "    Position()\n",
    "    i = i+1"
   ]
  },
  {
   "cell_type": "code",
   "execution_count": 15,
   "id": "a6dbe5de-e5ab-45b7-85ff-8b9f9bd67519",
   "metadata": {},
   "outputs": [
    {
     "ename": "error",
     "evalue": "(5, 'SetCursorPos', 'Access is denied.')",
     "output_type": "error",
     "traceback": [
      "\u001b[1;31m---------------------------------------------------------------------------\u001b[0m",
      "\u001b[1;31merror\u001b[0m                                     Traceback (most recent call last)",
      "\u001b[1;32mC:\\Users\\PHUTTI~1\\AppData\\Local\\Temp/ipykernel_11496/2879393880.py\u001b[0m in \u001b[0;36m<module>\u001b[1;34m\u001b[0m\n\u001b[0;32m      4\u001b[0m     \u001b[0mClick\u001b[0m \u001b[1;33m(\u001b[0m\u001b[1;36m1055\u001b[0m\u001b[1;33m,\u001b[0m\u001b[1;36m576\u001b[0m\u001b[1;33m)\u001b[0m\u001b[1;33m\u001b[0m\u001b[1;33m\u001b[0m\u001b[0m\n\u001b[0;32m      5\u001b[0m     \u001b[0mtime\u001b[0m\u001b[1;33m.\u001b[0m\u001b[0msleep\u001b[0m\u001b[1;33m(\u001b[0m\u001b[1;36m0.01\u001b[0m\u001b[1;33m)\u001b[0m\u001b[1;33m\u001b[0m\u001b[1;33m\u001b[0m\u001b[0m\n\u001b[1;32m----> 6\u001b[1;33m     \u001b[0mClick\u001b[0m \u001b[1;33m(\u001b[0m\u001b[1;36m1071\u001b[0m\u001b[1;33m,\u001b[0m\u001b[1;36m556\u001b[0m\u001b[1;33m)\u001b[0m\u001b[1;33m\u001b[0m\u001b[1;33m\u001b[0m\u001b[0m\n\u001b[0m",
      "\u001b[1;32mC:\\Users\\PHUTTI~1\\AppData\\Local\\Temp/ipykernel_11496/3122286630.py\u001b[0m in \u001b[0;36mClick\u001b[1;34m(x, y)\u001b[0m\n\u001b[0;32m      5\u001b[0m \u001b[1;33m\u001b[0m\u001b[0m\n\u001b[0;32m      6\u001b[0m \u001b[1;32mdef\u001b[0m \u001b[0mClick\u001b[0m \u001b[1;33m(\u001b[0m\u001b[0mx\u001b[0m\u001b[1;33m,\u001b[0m\u001b[0my\u001b[0m\u001b[1;33m)\u001b[0m \u001b[1;33m:\u001b[0m\u001b[1;33m\u001b[0m\u001b[1;33m\u001b[0m\u001b[0m\n\u001b[1;32m----> 7\u001b[1;33m     \u001b[0mwin32api\u001b[0m\u001b[1;33m.\u001b[0m\u001b[0mSetCursorPos\u001b[0m\u001b[1;33m(\u001b[0m\u001b[1;33m(\u001b[0m\u001b[0mx\u001b[0m\u001b[1;33m,\u001b[0m\u001b[0my\u001b[0m\u001b[1;33m)\u001b[0m\u001b[1;33m)\u001b[0m\u001b[1;33m\u001b[0m\u001b[1;33m\u001b[0m\u001b[0m\n\u001b[0m\u001b[0;32m      8\u001b[0m     \u001b[0mclick\u001b[0m\u001b[1;33m(\u001b[0m\u001b[1;33m)\u001b[0m\u001b[1;33m\u001b[0m\u001b[1;33m\u001b[0m\u001b[0m\n\u001b[0;32m      9\u001b[0m \u001b[1;33m\u001b[0m\u001b[0m\n",
      "\u001b[1;31merror\u001b[0m: (5, 'SetCursorPos', 'Access is denied.')"
     ]
    }
   ],
   "source": [
    "i = 0\n",
    "time.sleep(5)\n",
    "while(True):\n",
    "    Click (1055,576)\n",
    "    time.sleep(0.01)\n",
    "    Click (1071,556)"
   ]
  },
  {
   "cell_type": "code",
   "execution_count": null,
   "id": "520e8db4-d245-45ab-aaaa-c4801c48d460",
   "metadata": {},
   "outputs": [],
   "source": [
    "Point(x=1055, y=576)\n",
    "Point(x=1071, y=556)"
   ]
  },
  {
   "cell_type": "code",
   "execution_count": 12,
   "id": "6c78a35c-2783-4d7d-a606-d5fb13ee01ab",
   "metadata": {},
   "outputs": [
    {
     "name": "stdout",
     "output_type": "stream",
     "text": [
      "Point(x=1123, y=514)\n",
      "Point(x=1069, y=559)\n",
      "Point(x=1069, y=559)\n",
      "Point(x=1069, y=559)\n",
      "Point(x=1066, y=565)\n",
      "Point(x=1061, y=560)\n",
      "Point(x=1080, y=556)\n",
      "Point(x=1071, y=556)\n",
      "Point(x=1071, y=556)\n",
      "Point(x=1071, y=556)\n",
      "Point(x=1071, y=556)\n",
      "Point(x=1071, y=556)\n",
      "Point(x=1071, y=556)\n",
      "Point(x=1071, y=556)\n",
      "Point(x=1071, y=556)\n",
      "Point(x=1071, y=556)\n",
      "Point(x=1071, y=556)\n",
      "Point(x=1071, y=556)\n",
      "Point(x=1071, y=556)\n",
      "Point(x=1071, y=556)\n",
      "Point(x=1071, y=556)\n",
      "Point(x=1071, y=556)\n",
      "Point(x=1071, y=556)\n",
      "Point(x=1071, y=556)\n",
      "Point(x=1071, y=556)\n",
      "Point(x=1071, y=556)\n",
      "Point(x=1071, y=556)\n",
      "Point(x=1071, y=556)\n",
      "Point(x=1071, y=556)\n",
      "Point(x=1071, y=556)\n",
      "Point(x=1071, y=556)\n",
      "Point(x=1071, y=556)\n",
      "Point(x=1071, y=556)\n",
      "Point(x=1071, y=556)\n",
      "Point(x=1071, y=556)\n",
      "Point(x=1071, y=556)\n",
      "Point(x=1071, y=556)\n",
      "Point(x=1071, y=556)\n",
      "Point(x=1071, y=556)\n",
      "Point(x=1071, y=556)\n",
      "Point(x=1071, y=556)\n",
      "Point(x=1071, y=556)\n",
      "Point(x=1071, y=556)\n",
      "Point(x=1071, y=556)\n",
      "Point(x=1071, y=556)\n",
      "Point(x=1071, y=556)\n",
      "Point(x=1071, y=556)\n",
      "Point(x=1071, y=556)\n",
      "Point(x=1071, y=556)\n",
      "Point(x=1071, y=556)\n",
      "Point(x=1071, y=556)\n",
      "Point(x=1071, y=556)\n",
      "Point(x=1071, y=556)\n",
      "Point(x=1071, y=556)\n",
      "Point(x=1071, y=556)\n",
      "Point(x=1071, y=556)\n",
      "Point(x=1071, y=556)\n",
      "Point(x=1071, y=556)\n",
      "Point(x=1071, y=556)\n",
      "Point(x=1071, y=556)\n",
      "Point(x=1071, y=556)\n",
      "Point(x=1071, y=556)\n",
      "Point(x=1071, y=556)\n",
      "Point(x=1071, y=556)\n",
      "Point(x=1071, y=556)\n",
      "Point(x=1071, y=556)\n",
      "Point(x=1071, y=556)\n",
      "Point(x=1071, y=556)\n",
      "Point(x=1071, y=556)\n",
      "Point(x=1071, y=556)\n",
      "Point(x=1071, y=556)\n",
      "Point(x=1071, y=556)\n",
      "Point(x=1071, y=556)\n",
      "Point(x=1071, y=556)\n",
      "Point(x=1071, y=556)\n",
      "Point(x=1071, y=556)\n",
      "Point(x=1071, y=556)\n",
      "Point(x=1071, y=556)\n",
      "Point(x=1071, y=556)\n",
      "Point(x=1071, y=556)\n",
      "Point(x=1071, y=556)\n",
      "Point(x=1071, y=556)\n",
      "Point(x=1071, y=556)\n",
      "Point(x=1071, y=556)\n",
      "Point(x=1071, y=556)\n",
      "Point(x=1071, y=556)\n",
      "Point(x=1071, y=556)\n",
      "Point(x=1071, y=556)\n",
      "Point(x=1071, y=556)\n",
      "Point(x=1071, y=556)\n",
      "Point(x=1071, y=556)\n",
      "Point(x=1071, y=556)\n",
      "Point(x=1071, y=556)\n",
      "Point(x=1071, y=556)\n",
      "Point(x=1071, y=556)\n",
      "Point(x=1071, y=556)\n",
      "Point(x=1071, y=556)\n",
      "Point(x=1071, y=556)\n",
      "Point(x=1071, y=556)\n",
      "Point(x=1071, y=556)\n",
      "Point(x=1071, y=556)\n",
      "Point(x=1071, y=556)\n",
      "Point(x=1071, y=556)\n",
      "Point(x=1071, y=556)\n",
      "Point(x=1071, y=556)\n",
      "Point(x=1071, y=556)\n",
      "Point(x=1071, y=556)\n",
      "Point(x=1071, y=556)\n",
      "Point(x=1071, y=556)\n",
      "Point(x=1071, y=556)\n",
      "Point(x=1071, y=556)\n",
      "Point(x=1071, y=556)\n",
      "Point(x=1071, y=556)\n",
      "Point(x=1071, y=556)\n",
      "Point(x=1071, y=556)\n",
      "Point(x=1071, y=556)\n",
      "Point(x=1071, y=556)\n",
      "Point(x=1071, y=556)\n",
      "Point(x=1071, y=556)\n",
      "Point(x=1071, y=556)\n",
      "Point(x=1071, y=556)\n",
      "Point(x=1071, y=556)\n",
      "Point(x=1071, y=556)\n",
      "Point(x=1071, y=556)\n",
      "Point(x=1071, y=556)\n",
      "Point(x=1071, y=556)\n",
      "Point(x=1071, y=556)\n",
      "Point(x=1071, y=556)\n",
      "Point(x=1071, y=556)\n",
      "Point(x=1071, y=556)\n",
      "Point(x=1071, y=556)\n",
      "Point(x=1071, y=556)\n",
      "Point(x=1071, y=556)\n",
      "Point(x=960, y=540)\n",
      "Point(x=960, y=540)\n",
      "Point(x=960, y=540)\n",
      "Point(x=960, y=540)\n",
      "Point(x=665, y=120)\n"
     ]
    },
    {
     "ename": "KeyboardInterrupt",
     "evalue": "",
     "output_type": "error",
     "traceback": [
      "\u001b[1;31m---------------------------------------------------------------------------\u001b[0m",
      "\u001b[1;31mKeyboardInterrupt\u001b[0m                         Traceback (most recent call last)",
      "\u001b[1;32mC:\\Users\\PHUTTI~1\\AppData\\Local\\Temp/ipykernel_11496/3762256312.py\u001b[0m in \u001b[0;36m<module>\u001b[1;34m\u001b[0m\n\u001b[0;32m      2\u001b[0m \u001b[0mtime\u001b[0m\u001b[1;33m.\u001b[0m\u001b[0msleep\u001b[0m\u001b[1;33m(\u001b[0m\u001b[1;36m2\u001b[0m\u001b[1;33m)\u001b[0m\u001b[1;33m\u001b[0m\u001b[1;33m\u001b[0m\u001b[0m\n\u001b[0;32m      3\u001b[0m \u001b[1;32mwhile\u001b[0m\u001b[1;33m(\u001b[0m\u001b[1;32mTrue\u001b[0m\u001b[1;33m)\u001b[0m\u001b[1;33m:\u001b[0m\u001b[1;33m\u001b[0m\u001b[1;33m\u001b[0m\u001b[0m\n\u001b[1;32m----> 4\u001b[1;33m     \u001b[0mtime\u001b[0m\u001b[1;33m.\u001b[0m\u001b[0msleep\u001b[0m\u001b[1;33m(\u001b[0m\u001b[1;36m1\u001b[0m\u001b[1;33m)\u001b[0m\u001b[1;33m\u001b[0m\u001b[1;33m\u001b[0m\u001b[0m\n\u001b[0m\u001b[0;32m      5\u001b[0m     \u001b[0mPosition\u001b[0m\u001b[1;33m(\u001b[0m\u001b[1;33m)\u001b[0m\u001b[1;33m\u001b[0m\u001b[1;33m\u001b[0m\u001b[0m\n",
      "\u001b[1;31mKeyboardInterrupt\u001b[0m: "
     ]
    }
   ],
   "source": [
    "i = 0\n",
    "time.sleep(2)\n",
    "while(True):\n",
    "    time.sleep(1)\n",
    "    Position()"
   ]
  }
 ],
 "metadata": {
  "kernelspec": {
   "display_name": "Python 3 (ipykernel)",
   "language": "python",
   "name": "python3"
  },
  "language_info": {
   "codemirror_mode": {
    "name": "ipython",
    "version": 3
   },
   "file_extension": ".py",
   "mimetype": "text/x-python",
   "name": "python",
   "nbconvert_exporter": "python",
   "pygments_lexer": "ipython3",
   "version": "3.9.6"
  }
 },
 "nbformat": 4,
 "nbformat_minor": 5
}
