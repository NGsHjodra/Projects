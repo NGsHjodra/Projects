{
 "cells": [
  {
   "cell_type": "code",
   "execution_count": 1,
   "id": "3a49872e-f1c4-4ede-83f8-632037273945",
   "metadata": {},
   "outputs": [
    {
     "name": "stdout",
     "output_type": "stream",
     "text": [
      "Defaulting to user installation because normal site-packages is not writeable\n",
      "Requirement already satisfied: opencv-python in c:\\users\\phuttimate\\appdata\\roaming\\python\\python39\\site-packages (4.5.2.54)\n",
      "Requirement already satisfied: numpy>=1.19.3 in c:\\users\\phuttimate\\appdata\\roaming\\python\\python39\\site-packages (from opencv-python) (1.21.0)\n"
     ]
    }
   ],
   "source": [
    "!pip install opencv-python"
   ]
  },
  {
   "cell_type": "code",
   "execution_count": 2,
   "id": "56764584-2402-4298-a557-17993ae513a0",
   "metadata": {},
   "outputs": [],
   "source": [
    "import cv2\n",
    "import numpy as np\n",
    "import pyautogui, sys\n",
    "import time\n",
    "import win32api, win32con"
   ]
  },
  {
   "cell_type": "code",
   "execution_count": 27,
   "id": "779d4016-d2d1-4738-a74b-00dbe31a621d",
   "metadata": {},
   "outputs": [],
   "source": [
    "Attack = cv2.imread('Attack.png', cv2.IMREAD_UNCHANGED)"
   ]
  },
  {
   "cell_type": "code",
   "execution_count": 28,
   "id": "bf8cc93b-1757-4825-978e-ef0c5c9a938a",
   "metadata": {},
   "outputs": [],
   "source": [
    "#Add = cv2.imread('Add.png', cv2.IMREAD_UNCHANGED)\n",
    "#Minus = cv2.imread('Minus.png', cv2.IMREAD_UNCHANGED)\n",
    "#Barbarian = cv2.imread('Barbarian.png', cv2.IMREAD_UNCHANGED)\n",
    "#Search = cv2.imread('Search.png', cv2.IMREAD_UNCHANGED)\n",
    "#To_base = cv2.imread('To_base.png', cv2.IMREAD_UNCHANGED)\n",
    "#To_map = cv2.imread('To_map.png', cv2.IMREAD_UNCHANGED)"
   ]
  },
  {
   "cell_type": "code",
   "execution_count": 5,
   "id": "231db00e-9365-4eab-affa-7ea1e6f46184",
   "metadata": {},
   "outputs": [],
   "source": [
    "def click():\n",
    "    win32api.mouse_event(win32con.MOUSEEVENTF_LEFTDOWN,0,0)\n",
    "    time.sleep(0.01)\n",
    "    win32api.mouse_event(win32con.MOUSEEVENTF_LEFTUP,0,0)\n",
    "    \n",
    "def Click (position) :\n",
    "    x = int(position[0] + position[2]/2)\n",
    "    y = int(position[1] + position[3]/2)\n",
    "    win32api.SetCursorPos((x,y))\n",
    "    click()\n",
    "\n",
    "#set to the middle of barba\n",
    "def Setmouse_barba():\n",
    "    win32api.SetCursorPos((945,553))\n",
    "    click()\n",
    "    \n",
    "#set to the to_map or to_base\n",
    "def Setmouse_to_base():\n",
    "    win32api.SetCursorPos((132,984))\n",
    "    click()\n",
    "    \n",
    "#set to the find\n",
    "def Setmouse_find():\n",
    "    win32api.SetCursorPos((131,814))\n",
    "    click()\n",
    "    \n",
    "#set to the search\n",
    "def Setmouse_search():\n",
    "    win32api.SetCursorPos((428,735))\n",
    "    click()\n",
    "    \n",
    "#set to the new_troops\n",
    "def Setmouse_new_troops():\n",
    "    win32api.SetCursorPos((1448,259))\n",
    "    click()\n",
    "\n",
    "#set to the all-in\n",
    "def Setmouse_all_in():\n",
    "    win32api.SetCursorPos((1311,913))\n",
    "    click()\n",
    "\n",
    "#set to the medic\n",
    "def Setmouse_medic():\n",
    "    win32api.SetCursorPos((944,418))\n",
    "    click()\n",
    "    \n",
    "#set to the medic troop\n",
    "def Setmouse_medic_troop():\n",
    "    win32api.SetCursorPos((928,402))\n",
    "    click()\n",
    "    \n",
    "#set to the ok-medic\n",
    "def Setmouse_ok_medic():\n",
    "    win32api.SetCursorPos((1334,891))\n",
    "    click()\n",
    "\n",
    "def Attack():\n",
    "    while True :\n",
    "        position = pyautogui.locateOnScreen('Attack.png', confidence=0.9)\n",
    "        if position is not None:\n",
    "            Click(position)\n",
    "            break\n",
    "        else:\n",
    "            click()\n",
    "            time.sleep(0.3)\n",
    "\n",
    "def Barba():\n",
    "    while True :\n",
    "        position = pyautogui.locateOnScreen('Barba.png', confidence=0.7)\n",
    "        if position is not None:\n",
    "            Click(position)\n",
    "            break\n",
    "            \n",
    "def Medic():\n",
    "    ti = 100\n",
    "    while ti>0 :\n",
    "        time.sleep(0.1)\n",
    "        ti = ti-1\n",
    "        position = pyautogui.locateOnScreen('Medic.PNG', confidence=0.9)\n",
    "        if position is not None:\n",
    "            \n",
    "            Setmouse_medic()\n",
    "            time.sleep(0.5)\n",
    "            Setmouse_ok_medic()\n",
    "            time.sleep(4)\n",
    "            Setmouse_medic_troop()\n",
    "            break\n",
    "    "
   ]
  },
  {
   "cell_type": "code",
   "execution_count": 9,
   "id": "d913117c-12fd-4c3d-a2a6-80b5eab73bc4",
   "metadata": {},
   "outputs": [],
   "source": [
    "def Oneclick(filename):\n",
    "    while True :\n",
    "        position = pyautogui.locateOnScreen(filename, confidence=0.9)\n",
    "        if position is not None:\n",
    "            Click(position)\n",
    "             print(filename + \" clicked\")\n",
    "            break\n",
    "            "
   ]
  },
  {
   "cell_type": "code",
   "execution_count": null,
   "id": "af83db7d-b987-49bc-946a-23bf8124d72d",
   "metadata": {},
   "outputs": [],
   "source": [
    "#wait 4 enter game screen ver 2\n",
    "time.sleep(5)\n",
    "while True :\n",
    "    Oneclick('To_map.PNG')\n",
    "    Oneclick('Search.PNG')\n",
    "    Oneclick('Find.PNG')\n",
    "    Oneclick('To_base.PNG')\n",
    "    Oneclick('Barba.PNG')\n",
    "    time.sleep(0.5)\n",
    "    Attack()\n",
    "    time.sleep(0.5)\n",
    "    Setmouse_new_troops()\n",
    "    time.sleep(0.7)\n",
    "    Setmouse_all_in()\n",
    "    time.sleep(0.5)\n",
    "    Oneclick('To_base.PNG')\n",
    "    time.sleep(40)\n",
    "    Medic()\n",
    "    time.sleep(2)\n",
    "    Setmouse_medic_troop()\n",
    "    time.sleep(3)"
   ]
  },
  {
   "cell_type": "code",
   "execution_count": 6,
   "id": "bb0a6dc0-b7ea-402d-b525-b0c809ef0d68",
   "metadata": {},
   "outputs": [
    {
     "ename": "OSError",
     "evalue": "screen grab failed",
     "output_type": "error",
     "traceback": [
      "\u001b[1;31m---------------------------------------------------------------------------\u001b[0m",
      "\u001b[1;31mOSError\u001b[0m                                   Traceback (most recent call last)",
      "\u001b[1;32mC:\\Users\\PHUTTI~1\\AppData\\Local\\Temp/ipykernel_11532/3780950590.py\u001b[0m in \u001b[0;36m<module>\u001b[1;34m\u001b[0m\n\u001b[0;32m     10\u001b[0m     \u001b[0mSetmouse_barba\u001b[0m\u001b[1;33m(\u001b[0m\u001b[1;33m)\u001b[0m\u001b[1;33m\u001b[0m\u001b[1;33m\u001b[0m\u001b[0m\n\u001b[0;32m     11\u001b[0m     \u001b[0mtime\u001b[0m\u001b[1;33m.\u001b[0m\u001b[0msleep\u001b[0m\u001b[1;33m(\u001b[0m\u001b[1;36m0.5\u001b[0m\u001b[1;33m)\u001b[0m\u001b[1;33m\u001b[0m\u001b[1;33m\u001b[0m\u001b[0m\n\u001b[1;32m---> 12\u001b[1;33m     \u001b[0mAttack\u001b[0m\u001b[1;33m(\u001b[0m\u001b[1;33m)\u001b[0m\u001b[1;33m\u001b[0m\u001b[1;33m\u001b[0m\u001b[0m\n\u001b[0m\u001b[0;32m     13\u001b[0m     \u001b[0mtime\u001b[0m\u001b[1;33m.\u001b[0m\u001b[0msleep\u001b[0m\u001b[1;33m(\u001b[0m\u001b[1;36m0.5\u001b[0m\u001b[1;33m)\u001b[0m\u001b[1;33m\u001b[0m\u001b[1;33m\u001b[0m\u001b[0m\n\u001b[0;32m     14\u001b[0m     \u001b[0mSetmouse_new_troops\u001b[0m\u001b[1;33m(\u001b[0m\u001b[1;33m)\u001b[0m\u001b[1;33m\u001b[0m\u001b[1;33m\u001b[0m\u001b[0m\n",
      "\u001b[1;32mC:\\Users\\PHUTTI~1\\AppData\\Local\\Temp/ipykernel_11532/2359323276.py\u001b[0m in \u001b[0;36mAttack\u001b[1;34m()\u001b[0m\n\u001b[0;32m     57\u001b[0m \u001b[1;32mdef\u001b[0m \u001b[0mAttack\u001b[0m\u001b[1;33m(\u001b[0m\u001b[1;33m)\u001b[0m\u001b[1;33m:\u001b[0m\u001b[1;33m\u001b[0m\u001b[1;33m\u001b[0m\u001b[0m\n\u001b[0;32m     58\u001b[0m     \u001b[1;32mwhile\u001b[0m \u001b[1;32mTrue\u001b[0m \u001b[1;33m:\u001b[0m\u001b[1;33m\u001b[0m\u001b[1;33m\u001b[0m\u001b[0m\n\u001b[1;32m---> 59\u001b[1;33m         \u001b[0mposition\u001b[0m \u001b[1;33m=\u001b[0m \u001b[0mpyautogui\u001b[0m\u001b[1;33m.\u001b[0m\u001b[0mlocateOnScreen\u001b[0m\u001b[1;33m(\u001b[0m\u001b[1;34m'Attack.png'\u001b[0m\u001b[1;33m,\u001b[0m \u001b[0mconfidence\u001b[0m\u001b[1;33m=\u001b[0m\u001b[1;36m0.9\u001b[0m\u001b[1;33m)\u001b[0m\u001b[1;33m\u001b[0m\u001b[1;33m\u001b[0m\u001b[0m\n\u001b[0m\u001b[0;32m     60\u001b[0m         \u001b[1;32mif\u001b[0m \u001b[0mposition\u001b[0m \u001b[1;32mis\u001b[0m \u001b[1;32mnot\u001b[0m \u001b[1;32mNone\u001b[0m\u001b[1;33m:\u001b[0m\u001b[1;33m\u001b[0m\u001b[1;33m\u001b[0m\u001b[0m\n\u001b[0;32m     61\u001b[0m             \u001b[0mClick\u001b[0m\u001b[1;33m(\u001b[0m\u001b[0mposition\u001b[0m\u001b[1;33m)\u001b[0m\u001b[1;33m\u001b[0m\u001b[1;33m\u001b[0m\u001b[0m\n",
      "\u001b[1;32m~\\AppData\\Roaming\\Python\\Python39\\site-packages\\pyautogui\\__init__.py\u001b[0m in \u001b[0;36mwrapper\u001b[1;34m(*args, **kwargs)\u001b[0m\n\u001b[0;32m    173\u001b[0m     \u001b[1;32mdef\u001b[0m \u001b[0mwrapper\u001b[0m\u001b[1;33m(\u001b[0m\u001b[1;33m*\u001b[0m\u001b[0margs\u001b[0m\u001b[1;33m,\u001b[0m \u001b[1;33m**\u001b[0m\u001b[0mkwargs\u001b[0m\u001b[1;33m)\u001b[0m\u001b[1;33m:\u001b[0m\u001b[1;33m\u001b[0m\u001b[1;33m\u001b[0m\u001b[0m\n\u001b[0;32m    174\u001b[0m         \u001b[1;32mtry\u001b[0m\u001b[1;33m:\u001b[0m\u001b[1;33m\u001b[0m\u001b[1;33m\u001b[0m\u001b[0m\n\u001b[1;32m--> 175\u001b[1;33m             \u001b[1;32mreturn\u001b[0m \u001b[0mwrappedFunction\u001b[0m\u001b[1;33m(\u001b[0m\u001b[1;33m*\u001b[0m\u001b[0margs\u001b[0m\u001b[1;33m,\u001b[0m \u001b[1;33m**\u001b[0m\u001b[0mkwargs\u001b[0m\u001b[1;33m)\u001b[0m\u001b[1;33m\u001b[0m\u001b[1;33m\u001b[0m\u001b[0m\n\u001b[0m\u001b[0;32m    176\u001b[0m         \u001b[1;32mexcept\u001b[0m \u001b[0mpyscreeze\u001b[0m\u001b[1;33m.\u001b[0m\u001b[0mImageNotFoundException\u001b[0m\u001b[1;33m:\u001b[0m\u001b[1;33m\u001b[0m\u001b[1;33m\u001b[0m\u001b[0m\n\u001b[0;32m    177\u001b[0m             \u001b[1;32mraise\u001b[0m \u001b[0mImageNotFoundException\u001b[0m  \u001b[1;31m# Raise PyAutoGUI's ImageNotFoundException.\u001b[0m\u001b[1;33m\u001b[0m\u001b[1;33m\u001b[0m\u001b[0m\n",
      "\u001b[1;32m~\\AppData\\Roaming\\Python\\Python39\\site-packages\\pyautogui\\__init__.py\u001b[0m in \u001b[0;36mlocateOnScreen\u001b[1;34m(*args, **kwargs)\u001b[0m\n\u001b[0;32m    211\u001b[0m     \u001b[1;33m@\u001b[0m\u001b[0mraisePyAutoGUIImageNotFoundException\u001b[0m\u001b[1;33m\u001b[0m\u001b[1;33m\u001b[0m\u001b[0m\n\u001b[0;32m    212\u001b[0m     \u001b[1;32mdef\u001b[0m \u001b[0mlocateOnScreen\u001b[0m\u001b[1;33m(\u001b[0m\u001b[1;33m*\u001b[0m\u001b[0margs\u001b[0m\u001b[1;33m,\u001b[0m \u001b[1;33m**\u001b[0m\u001b[0mkwargs\u001b[0m\u001b[1;33m)\u001b[0m\u001b[1;33m:\u001b[0m\u001b[1;33m\u001b[0m\u001b[1;33m\u001b[0m\u001b[0m\n\u001b[1;32m--> 213\u001b[1;33m         \u001b[1;32mreturn\u001b[0m \u001b[0mpyscreeze\u001b[0m\u001b[1;33m.\u001b[0m\u001b[0mlocateOnScreen\u001b[0m\u001b[1;33m(\u001b[0m\u001b[1;33m*\u001b[0m\u001b[0margs\u001b[0m\u001b[1;33m,\u001b[0m \u001b[1;33m**\u001b[0m\u001b[0mkwargs\u001b[0m\u001b[1;33m)\u001b[0m\u001b[1;33m\u001b[0m\u001b[1;33m\u001b[0m\u001b[0m\n\u001b[0m\u001b[0;32m    214\u001b[0m \u001b[1;33m\u001b[0m\u001b[0m\n\u001b[0;32m    215\u001b[0m     \u001b[0mlocateOnScreen\u001b[0m\u001b[1;33m.\u001b[0m\u001b[0m__doc__\u001b[0m \u001b[1;33m=\u001b[0m \u001b[0mpyscreeze\u001b[0m\u001b[1;33m.\u001b[0m\u001b[0mlocateOnScreen\u001b[0m\u001b[1;33m.\u001b[0m\u001b[0m__doc__\u001b[0m\u001b[1;33m\u001b[0m\u001b[1;33m\u001b[0m\u001b[0m\n",
      "\u001b[1;32m~\\AppData\\Roaming\\Python\\Python39\\site-packages\\pyscreeze\\__init__.py\u001b[0m in \u001b[0;36mlocateOnScreen\u001b[1;34m(image, minSearchTime, **kwargs)\u001b[0m\n\u001b[0;32m    369\u001b[0m     \u001b[1;32mwhile\u001b[0m \u001b[1;32mTrue\u001b[0m\u001b[1;33m:\u001b[0m\u001b[1;33m\u001b[0m\u001b[1;33m\u001b[0m\u001b[0m\n\u001b[0;32m    370\u001b[0m         \u001b[1;32mtry\u001b[0m\u001b[1;33m:\u001b[0m\u001b[1;33m\u001b[0m\u001b[1;33m\u001b[0m\u001b[0m\n\u001b[1;32m--> 371\u001b[1;33m             \u001b[0mscreenshotIm\u001b[0m \u001b[1;33m=\u001b[0m \u001b[0mscreenshot\u001b[0m\u001b[1;33m(\u001b[0m\u001b[0mregion\u001b[0m\u001b[1;33m=\u001b[0m\u001b[1;32mNone\u001b[0m\u001b[1;33m)\u001b[0m \u001b[1;31m# the locateAll() function must handle cropping to return accurate coordinates, so don't pass a region here.\u001b[0m\u001b[1;33m\u001b[0m\u001b[1;33m\u001b[0m\u001b[0m\n\u001b[0m\u001b[0;32m    372\u001b[0m             \u001b[0mretVal\u001b[0m \u001b[1;33m=\u001b[0m \u001b[0mlocate\u001b[0m\u001b[1;33m(\u001b[0m\u001b[0mimage\u001b[0m\u001b[1;33m,\u001b[0m \u001b[0mscreenshotIm\u001b[0m\u001b[1;33m,\u001b[0m \u001b[1;33m**\u001b[0m\u001b[0mkwargs\u001b[0m\u001b[1;33m)\u001b[0m\u001b[1;33m\u001b[0m\u001b[1;33m\u001b[0m\u001b[0m\n\u001b[0;32m    373\u001b[0m             \u001b[1;32mtry\u001b[0m\u001b[1;33m:\u001b[0m\u001b[1;33m\u001b[0m\u001b[1;33m\u001b[0m\u001b[0m\n",
      "\u001b[1;32m~\\AppData\\Roaming\\Python\\Python39\\site-packages\\pyscreeze\\__init__.py\u001b[0m in \u001b[0;36mwrapper\u001b[1;34m(*args, **kwargs)\u001b[0m\n\u001b[0;32m    142\u001b[0m         \u001b[1;32mif\u001b[0m \u001b[0m_PILLOW_UNAVAILABLE\u001b[0m\u001b[1;33m:\u001b[0m\u001b[1;33m\u001b[0m\u001b[1;33m\u001b[0m\u001b[0m\n\u001b[0;32m    143\u001b[0m             \u001b[1;32mraise\u001b[0m \u001b[0mPyScreezeException\u001b[0m\u001b[1;33m(\u001b[0m\u001b[1;34m'The Pillow package is required to use this function.'\u001b[0m\u001b[1;33m)\u001b[0m\u001b[1;33m\u001b[0m\u001b[1;33m\u001b[0m\u001b[0m\n\u001b[1;32m--> 144\u001b[1;33m         \u001b[1;32mreturn\u001b[0m \u001b[0mwrappedFunction\u001b[0m\u001b[1;33m(\u001b[0m\u001b[1;33m*\u001b[0m\u001b[0margs\u001b[0m\u001b[1;33m,\u001b[0m \u001b[1;33m**\u001b[0m\u001b[0mkwargs\u001b[0m\u001b[1;33m)\u001b[0m\u001b[1;33m\u001b[0m\u001b[1;33m\u001b[0m\u001b[0m\n\u001b[0m\u001b[0;32m    145\u001b[0m     \u001b[1;32mreturn\u001b[0m \u001b[0mwrapper\u001b[0m\u001b[1;33m\u001b[0m\u001b[1;33m\u001b[0m\u001b[0m\n\u001b[0;32m    146\u001b[0m \u001b[1;33m\u001b[0m\u001b[0m\n",
      "\u001b[1;32m~\\AppData\\Roaming\\Python\\Python39\\site-packages\\pyscreeze\\__init__.py\u001b[0m in \u001b[0;36m_screenshot_win32\u001b[1;34m(imageFilename, region)\u001b[0m\n\u001b[0;32m    454\u001b[0m     \u001b[1;31m# TODO - Use the winapi to get a screenshot, and compare performance with ImageGrab.grab()\u001b[0m\u001b[1;33m\u001b[0m\u001b[1;33m\u001b[0m\u001b[1;33m\u001b[0m\u001b[0m\n\u001b[0;32m    455\u001b[0m     \u001b[1;31m# https://stackoverflow.com/a/3586280/1893164\u001b[0m\u001b[1;33m\u001b[0m\u001b[1;33m\u001b[0m\u001b[1;33m\u001b[0m\u001b[0m\n\u001b[1;32m--> 456\u001b[1;33m     \u001b[0mim\u001b[0m \u001b[1;33m=\u001b[0m \u001b[0mImageGrab\u001b[0m\u001b[1;33m.\u001b[0m\u001b[0mgrab\u001b[0m\u001b[1;33m(\u001b[0m\u001b[1;33m)\u001b[0m\u001b[1;33m\u001b[0m\u001b[1;33m\u001b[0m\u001b[0m\n\u001b[0m\u001b[0;32m    457\u001b[0m     \u001b[1;32mif\u001b[0m \u001b[0mregion\u001b[0m \u001b[1;32mis\u001b[0m \u001b[1;32mnot\u001b[0m \u001b[1;32mNone\u001b[0m\u001b[1;33m:\u001b[0m\u001b[1;33m\u001b[0m\u001b[1;33m\u001b[0m\u001b[0m\n\u001b[0;32m    458\u001b[0m         \u001b[1;32massert\u001b[0m \u001b[0mlen\u001b[0m\u001b[1;33m(\u001b[0m\u001b[0mregion\u001b[0m\u001b[1;33m)\u001b[0m \u001b[1;33m==\u001b[0m \u001b[1;36m4\u001b[0m\u001b[1;33m,\u001b[0m \u001b[1;34m'region argument must be a tuple of four ints'\u001b[0m\u001b[1;33m\u001b[0m\u001b[1;33m\u001b[0m\u001b[0m\n",
      "\u001b[1;32m~\\AppData\\Roaming\\Python\\Python39\\site-packages\\PIL\\ImageGrab.py\u001b[0m in \u001b[0;36mgrab\u001b[1;34m(bbox, include_layered_windows, all_screens, xdisplay)\u001b[0m\n\u001b[0;32m     41\u001b[0m             \u001b[1;32mreturn\u001b[0m \u001b[0mim\u001b[0m\u001b[1;33m\u001b[0m\u001b[1;33m\u001b[0m\u001b[0m\n\u001b[0;32m     42\u001b[0m         \u001b[1;32melif\u001b[0m \u001b[0msys\u001b[0m\u001b[1;33m.\u001b[0m\u001b[0mplatform\u001b[0m \u001b[1;33m==\u001b[0m \u001b[1;34m\"win32\"\u001b[0m\u001b[1;33m:\u001b[0m\u001b[1;33m\u001b[0m\u001b[1;33m\u001b[0m\u001b[0m\n\u001b[1;32m---> 43\u001b[1;33m             offset, size, data = Image.core.grabscreen_win32(\n\u001b[0m\u001b[0;32m     44\u001b[0m                 \u001b[0minclude_layered_windows\u001b[0m\u001b[1;33m,\u001b[0m \u001b[0mall_screens\u001b[0m\u001b[1;33m\u001b[0m\u001b[1;33m\u001b[0m\u001b[0m\n\u001b[0;32m     45\u001b[0m             )\n",
      "\u001b[1;31mOSError\u001b[0m: screen grab failed"
     ]
    }
   ],
   "source": [
    "#wait 4 enter game screen\n",
    "time.sleep(5)\n",
    "while True :\n",
    "    Setmouse_to_base()\n",
    "    time.sleep(0.5)\n",
    "    Setmouse_find()\n",
    "    time.sleep(0.5)\n",
    "    Setmouse_search()\n",
    "    time.sleep(0.5)\n",
    "    Setmouse_barba()\n",
    "    time.sleep(0.5)\n",
    "    Attack()\n",
    "    time.sleep(0.5)\n",
    "    Setmouse_new_troops()\n",
    "    time.sleep(0.7)\n",
    "    Setmouse_all_in()\n",
    "    time.sleep(0.5)\n",
    "    Setmouse_to_base()\n",
    "    time.sleep(40)\n",
    "    Medic()\n",
    "    time.sleep(2)\n",
    "    Setmouse_medic_troop()\n",
    "    time.sleep(3)"
   ]
  },
  {
   "cell_type": "code",
   "execution_count": 41,
   "id": "329f95f5-d328-4ae4-8709-0e047929332f",
   "metadata": {},
   "outputs": [],
   "source": [
    "Setmouse_new_troops()"
   ]
  },
  {
   "cell_type": "code",
   "execution_count": 6,
   "id": "caed3f0b-d929-4fdc-af65-f6e9299a11a7",
   "metadata": {},
   "outputs": [],
   "source": []
  },
  {
   "cell_type": "code",
   "execution_count": 56,
   "id": "6c8c128a-bcf1-440d-8174-8773f79a0023",
   "metadata": {},
   "outputs": [
    {
     "name": "stdout",
     "output_type": "stream",
     "text": [
      "851 326\n",
      "851 326\n",
      "851 326\n",
      "0 337\n",
      "0 337\n",
      "0 341\n",
      "1 418\n",
      "1 419\n",
      "252 428\n",
      "686 388\n",
      "928 386\n",
      "932 391\n",
      "932 398\n",
      "932 398\n",
      "932 398\n",
      "928 402\n",
      "928 402\n",
      "928 402\n",
      "928 402\n",
      "928 402\n",
      "928 402\n",
      "928 402\n",
      "928 402\n",
      "928 402\n",
      "928 402\n",
      "928 402\n",
      "928 402\n",
      "928 402\n",
      "928 402\n",
      "928 402\n",
      "928 402\n",
      "928 402\n",
      "928 402\n",
      "928 402\n",
      "928 402\n",
      "928 402\n",
      "928 402\n",
      "928 402\n",
      "928 402\n",
      "928 402\n",
      "928 402\n",
      "928 402\n",
      "928 402\n",
      "928 402\n",
      "928 402\n",
      "928 402\n",
      "928 402\n",
      "928 402\n",
      "928 402\n",
      "928 402\n"
     ]
    }
   ],
   "source": [
    "i = 0\n",
    "while i<50:\n",
    "    x, y = pyautogui.position()\n",
    "    print(str(x)+\" \"+str(y))\n",
    "    time.sleep(0.3)\n",
    "    i=i+1"
   ]
  },
  {
   "cell_type": "code",
   "execution_count": null,
   "id": "3e6e618c-008e-456c-9590-1daca43d7a02",
   "metadata": {},
   "outputs": [],
   "source": []
  }
 ],
 "metadata": {
  "kernelspec": {
   "display_name": "Python 3 (ipykernel)",
   "language": "python",
   "name": "python3"
  },
  "language_info": {
   "codemirror_mode": {
    "name": "ipython",
    "version": 3
   },
   "file_extension": ".py",
   "mimetype": "text/x-python",
   "name": "python",
   "nbconvert_exporter": "python",
   "pygments_lexer": "ipython3",
   "version": "3.9.6"
  }
 },
 "nbformat": 4,
 "nbformat_minor": 5
}
