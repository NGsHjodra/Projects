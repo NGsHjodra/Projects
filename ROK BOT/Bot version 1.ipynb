{
 "cells": [
  {
   "cell_type": "code",
   "execution_count": 1,
   "id": "00e604e5-db3c-415c-8504-b3ee9eaccb5f",
   "metadata": {},
   "outputs": [
    {
     "name": "stdout",
     "output_type": "stream",
     "text": [
      "Defaulting to user installation because normal site-packages is not writeable\n",
      "Requirement already satisfied: opencv-python in c:\\users\\phuttimate\\appdata\\roaming\\python\\python39\\site-packages (4.5.2.54)\n",
      "Requirement already satisfied: numpy>=1.19.3 in c:\\users\\phuttimate\\appdata\\roaming\\python\\python39\\site-packages (from opencv-python) (1.21.0)\n"
     ]
    }
   ],
   "source": [
    "!pip install opencv-python"
   ]
  },
  {
   "cell_type": "code",
   "execution_count": 2,
   "id": "8dc09c61-484f-4e10-a4ed-33ed5052cdbd",
   "metadata": {},
   "outputs": [],
   "source": [
    "import cv2\n",
    "import numpy as np\n",
    "import pyautogui, sys\n",
    "import time\n",
    "import win32api, win32con"
   ]
  },
  {
   "cell_type": "code",
   "execution_count": 3,
   "id": "b1ac1e04-5c97-463d-b045-ea960c51ed66",
   "metadata": {},
   "outputs": [],
   "source": [
    "def click():\n",
    "    win32api.mouse_event(win32con.MOUSEEVENTF_LEFTDOWN,0,0)\n",
    "    time.sleep(0.01)\n",
    "    win32api.mouse_event(win32con.MOUSEEVENTF_LEFTUP,0,0)\n",
    "    \n",
    "def Click (position) :\n",
    "    x = int(position[0] + position[2]/2)\n",
    "    y = int(position[1] + position[3]/2)\n",
    "    win32api.SetCursorPos((x,y))\n",
    "    click()\n",
    "    \n",
    "#set to the new_troops\n",
    "def Setmouse_new_troops():\n",
    "    win32api.SetCursorPos((1448,259))\n",
    "    click()\n",
    "\n",
    "#set to the all-in\n",
    "def Setmouse_all_in():\n",
    "    win32api.SetCursorPos((1311,913))\n",
    "    click()\n",
    "\n",
    "#set to the medic\n",
    "def Setmouse_medic():\n",
    "    win32api.SetCursorPos((944,418))\n",
    "    click()\n",
    "    \n",
    "#set to the medic troop\n",
    "def Setmouse_medic_troop():\n",
    "    win32api.SetCursorPos((928,402))\n",
    "    click()\n",
    "    \n",
    "#set to the ok-medic\n",
    "def Setmouse_ok_medic():\n",
    "    win32api.SetCursorPos((1334,891))\n",
    "    click()\n",
    "\n",
    "def Attack():\n",
    "    while True :\n",
    "        position = pyautogui.locateOnScreen('Attack.png', confidence=0.9)\n",
    "        if position is not None:\n",
    "            Click(position)\n",
    "            break\n",
    "        else:\n",
    "            click()\n",
    "            time.sleep(0.3)\n",
    "            \n",
    "def Medic():\n",
    "    ti = 100\n",
    "    while ti>0 :\n",
    "        time.sleep(0.1)\n",
    "        ti = ti-1\n",
    "        position = pyautogui.locateOnScreen('Medic.PNG', confidence=0.9)\n",
    "        if position is not None:\n",
    "            \n",
    "            Setmouse_medic()\n",
    "            time.sleep(0.5)\n",
    "            Setmouse_ok_medic()\n",
    "            time.sleep(4)\n",
    "            Setmouse_medic_troop()\n",
    "            break\n",
    "            \n",
    "def Oneclick(filename):\n",
    "    while True :\n",
    "        position = pyautogui.locateOnScreen(filename, confidence=0.9)\n",
    "        if position is not None:\n",
    "            Click(position)\n",
    "            break\n",
    "\n",
    "def Find(filename):\n",
    "    position = pyautogui.locateOnScreen(filename, confidence=0.9)\n",
    "    while position is None :\n",
    "        position = pyautogui.locateOnScreen(filename, confidence=0.9)"
   ]
  },
  {
   "cell_type": "code",
   "execution_count": 6,
   "id": "b250f2bf-9dba-44bd-a296-1a4b1595bce1",
   "metadata": {},
   "outputs": [
    {
     "name": "stdout",
     "output_type": "stream",
     "text": [
      "rounds : 0\n",
      "rounds : 1\n",
      "rounds : 2\n",
      "rounds : 3\n",
      "rounds : 4\n",
      "rounds : 5\n",
      "rounds : 6\n"
     ]
    },
    {
     "ename": "OSError",
     "evalue": "screen grab failed",
     "output_type": "error",
     "traceback": [
      "\u001b[1;31m---------------------------------------------------------------------------\u001b[0m",
      "\u001b[1;31mOSError\u001b[0m                                   Traceback (most recent call last)",
      "\u001b[1;32mC:\\Users\\PHUTTI~1\\AppData\\Local\\Temp/ipykernel_18008/116302446.py\u001b[0m in \u001b[0;36m<module>\u001b[1;34m\u001b[0m\n\u001b[0;32m     15\u001b[0m     \u001b[0mtime\u001b[0m\u001b[1;33m.\u001b[0m\u001b[0msleep\u001b[0m\u001b[1;33m(\u001b[0m\u001b[1;36m0.7\u001b[0m\u001b[1;33m)\u001b[0m\u001b[1;33m\u001b[0m\u001b[1;33m\u001b[0m\u001b[0m\n\u001b[0;32m     16\u001b[0m     \u001b[0mOneclick\u001b[0m\u001b[1;33m(\u001b[0m\u001b[1;34m'To_base.PNG'\u001b[0m\u001b[1;33m)\u001b[0m\u001b[1;33m\u001b[0m\u001b[1;33m\u001b[0m\u001b[0m\n\u001b[1;32m---> 17\u001b[1;33m     \u001b[0mFind\u001b[0m\u001b[1;33m(\u001b[0m\u001b[1;34m'Pre_med.PNG'\u001b[0m\u001b[1;33m)\u001b[0m\u001b[1;33m\u001b[0m\u001b[1;33m\u001b[0m\u001b[0m\n\u001b[0m\u001b[0;32m     18\u001b[0m     \u001b[0mMedic\u001b[0m\u001b[1;33m(\u001b[0m\u001b[1;33m)\u001b[0m\u001b[1;33m\u001b[0m\u001b[1;33m\u001b[0m\u001b[0m\n\u001b[0;32m     19\u001b[0m     \u001b[0mtime\u001b[0m\u001b[1;33m.\u001b[0m\u001b[0msleep\u001b[0m\u001b[1;33m(\u001b[0m\u001b[1;36m2\u001b[0m\u001b[1;33m)\u001b[0m\u001b[1;33m\u001b[0m\u001b[1;33m\u001b[0m\u001b[0m\n",
      "\u001b[1;32mC:\\Users\\PHUTTI~1\\AppData\\Local\\Temp/ipykernel_18008/3928684222.py\u001b[0m in \u001b[0;36mFind\u001b[1;34m(filename)\u001b[0m\n\u001b[0;32m     70\u001b[0m     \u001b[0mposition\u001b[0m \u001b[1;33m=\u001b[0m \u001b[0mpyautogui\u001b[0m\u001b[1;33m.\u001b[0m\u001b[0mlocateOnScreen\u001b[0m\u001b[1;33m(\u001b[0m\u001b[0mfilename\u001b[0m\u001b[1;33m,\u001b[0m \u001b[0mconfidence\u001b[0m\u001b[1;33m=\u001b[0m\u001b[1;36m0.9\u001b[0m\u001b[1;33m)\u001b[0m\u001b[1;33m\u001b[0m\u001b[1;33m\u001b[0m\u001b[0m\n\u001b[0;32m     71\u001b[0m     \u001b[1;32mwhile\u001b[0m \u001b[0mposition\u001b[0m \u001b[1;32mis\u001b[0m \u001b[1;32mNone\u001b[0m \u001b[1;33m:\u001b[0m\u001b[1;33m\u001b[0m\u001b[1;33m\u001b[0m\u001b[0m\n\u001b[1;32m---> 72\u001b[1;33m         \u001b[0mposition\u001b[0m \u001b[1;33m=\u001b[0m \u001b[0mpyautogui\u001b[0m\u001b[1;33m.\u001b[0m\u001b[0mlocateOnScreen\u001b[0m\u001b[1;33m(\u001b[0m\u001b[0mfilename\u001b[0m\u001b[1;33m,\u001b[0m \u001b[0mconfidence\u001b[0m\u001b[1;33m=\u001b[0m\u001b[1;36m0.9\u001b[0m\u001b[1;33m)\u001b[0m\u001b[1;33m\u001b[0m\u001b[1;33m\u001b[0m\u001b[0m\n\u001b[0m",
      "\u001b[1;32m~\\AppData\\Roaming\\Python\\Python39\\site-packages\\pyautogui\\__init__.py\u001b[0m in \u001b[0;36mwrapper\u001b[1;34m(*args, **kwargs)\u001b[0m\n\u001b[0;32m    173\u001b[0m     \u001b[1;32mdef\u001b[0m \u001b[0mwrapper\u001b[0m\u001b[1;33m(\u001b[0m\u001b[1;33m*\u001b[0m\u001b[0margs\u001b[0m\u001b[1;33m,\u001b[0m \u001b[1;33m**\u001b[0m\u001b[0mkwargs\u001b[0m\u001b[1;33m)\u001b[0m\u001b[1;33m:\u001b[0m\u001b[1;33m\u001b[0m\u001b[1;33m\u001b[0m\u001b[0m\n\u001b[0;32m    174\u001b[0m         \u001b[1;32mtry\u001b[0m\u001b[1;33m:\u001b[0m\u001b[1;33m\u001b[0m\u001b[1;33m\u001b[0m\u001b[0m\n\u001b[1;32m--> 175\u001b[1;33m             \u001b[1;32mreturn\u001b[0m \u001b[0mwrappedFunction\u001b[0m\u001b[1;33m(\u001b[0m\u001b[1;33m*\u001b[0m\u001b[0margs\u001b[0m\u001b[1;33m,\u001b[0m \u001b[1;33m**\u001b[0m\u001b[0mkwargs\u001b[0m\u001b[1;33m)\u001b[0m\u001b[1;33m\u001b[0m\u001b[1;33m\u001b[0m\u001b[0m\n\u001b[0m\u001b[0;32m    176\u001b[0m         \u001b[1;32mexcept\u001b[0m \u001b[0mpyscreeze\u001b[0m\u001b[1;33m.\u001b[0m\u001b[0mImageNotFoundException\u001b[0m\u001b[1;33m:\u001b[0m\u001b[1;33m\u001b[0m\u001b[1;33m\u001b[0m\u001b[0m\n\u001b[0;32m    177\u001b[0m             \u001b[1;32mraise\u001b[0m \u001b[0mImageNotFoundException\u001b[0m  \u001b[1;31m# Raise PyAutoGUI's ImageNotFoundException.\u001b[0m\u001b[1;33m\u001b[0m\u001b[1;33m\u001b[0m\u001b[0m\n",
      "\u001b[1;32m~\\AppData\\Roaming\\Python\\Python39\\site-packages\\pyautogui\\__init__.py\u001b[0m in \u001b[0;36mlocateOnScreen\u001b[1;34m(*args, **kwargs)\u001b[0m\n\u001b[0;32m    211\u001b[0m     \u001b[1;33m@\u001b[0m\u001b[0mraisePyAutoGUIImageNotFoundException\u001b[0m\u001b[1;33m\u001b[0m\u001b[1;33m\u001b[0m\u001b[0m\n\u001b[0;32m    212\u001b[0m     \u001b[1;32mdef\u001b[0m \u001b[0mlocateOnScreen\u001b[0m\u001b[1;33m(\u001b[0m\u001b[1;33m*\u001b[0m\u001b[0margs\u001b[0m\u001b[1;33m,\u001b[0m \u001b[1;33m**\u001b[0m\u001b[0mkwargs\u001b[0m\u001b[1;33m)\u001b[0m\u001b[1;33m:\u001b[0m\u001b[1;33m\u001b[0m\u001b[1;33m\u001b[0m\u001b[0m\n\u001b[1;32m--> 213\u001b[1;33m         \u001b[1;32mreturn\u001b[0m \u001b[0mpyscreeze\u001b[0m\u001b[1;33m.\u001b[0m\u001b[0mlocateOnScreen\u001b[0m\u001b[1;33m(\u001b[0m\u001b[1;33m*\u001b[0m\u001b[0margs\u001b[0m\u001b[1;33m,\u001b[0m \u001b[1;33m**\u001b[0m\u001b[0mkwargs\u001b[0m\u001b[1;33m)\u001b[0m\u001b[1;33m\u001b[0m\u001b[1;33m\u001b[0m\u001b[0m\n\u001b[0m\u001b[0;32m    214\u001b[0m \u001b[1;33m\u001b[0m\u001b[0m\n\u001b[0;32m    215\u001b[0m     \u001b[0mlocateOnScreen\u001b[0m\u001b[1;33m.\u001b[0m\u001b[0m__doc__\u001b[0m \u001b[1;33m=\u001b[0m \u001b[0mpyscreeze\u001b[0m\u001b[1;33m.\u001b[0m\u001b[0mlocateOnScreen\u001b[0m\u001b[1;33m.\u001b[0m\u001b[0m__doc__\u001b[0m\u001b[1;33m\u001b[0m\u001b[1;33m\u001b[0m\u001b[0m\n",
      "\u001b[1;32m~\\AppData\\Roaming\\Python\\Python39\\site-packages\\pyscreeze\\__init__.py\u001b[0m in \u001b[0;36mlocateOnScreen\u001b[1;34m(image, minSearchTime, **kwargs)\u001b[0m\n\u001b[0;32m    369\u001b[0m     \u001b[1;32mwhile\u001b[0m \u001b[1;32mTrue\u001b[0m\u001b[1;33m:\u001b[0m\u001b[1;33m\u001b[0m\u001b[1;33m\u001b[0m\u001b[0m\n\u001b[0;32m    370\u001b[0m         \u001b[1;32mtry\u001b[0m\u001b[1;33m:\u001b[0m\u001b[1;33m\u001b[0m\u001b[1;33m\u001b[0m\u001b[0m\n\u001b[1;32m--> 371\u001b[1;33m             \u001b[0mscreenshotIm\u001b[0m \u001b[1;33m=\u001b[0m \u001b[0mscreenshot\u001b[0m\u001b[1;33m(\u001b[0m\u001b[0mregion\u001b[0m\u001b[1;33m=\u001b[0m\u001b[1;32mNone\u001b[0m\u001b[1;33m)\u001b[0m \u001b[1;31m# the locateAll() function must handle cropping to return accurate coordinates, so don't pass a region here.\u001b[0m\u001b[1;33m\u001b[0m\u001b[1;33m\u001b[0m\u001b[0m\n\u001b[0m\u001b[0;32m    372\u001b[0m             \u001b[0mretVal\u001b[0m \u001b[1;33m=\u001b[0m \u001b[0mlocate\u001b[0m\u001b[1;33m(\u001b[0m\u001b[0mimage\u001b[0m\u001b[1;33m,\u001b[0m \u001b[0mscreenshotIm\u001b[0m\u001b[1;33m,\u001b[0m \u001b[1;33m**\u001b[0m\u001b[0mkwargs\u001b[0m\u001b[1;33m)\u001b[0m\u001b[1;33m\u001b[0m\u001b[1;33m\u001b[0m\u001b[0m\n\u001b[0;32m    373\u001b[0m             \u001b[1;32mtry\u001b[0m\u001b[1;33m:\u001b[0m\u001b[1;33m\u001b[0m\u001b[1;33m\u001b[0m\u001b[0m\n",
      "\u001b[1;32m~\\AppData\\Roaming\\Python\\Python39\\site-packages\\pyscreeze\\__init__.py\u001b[0m in \u001b[0;36mwrapper\u001b[1;34m(*args, **kwargs)\u001b[0m\n\u001b[0;32m    142\u001b[0m         \u001b[1;32mif\u001b[0m \u001b[0m_PILLOW_UNAVAILABLE\u001b[0m\u001b[1;33m:\u001b[0m\u001b[1;33m\u001b[0m\u001b[1;33m\u001b[0m\u001b[0m\n\u001b[0;32m    143\u001b[0m             \u001b[1;32mraise\u001b[0m \u001b[0mPyScreezeException\u001b[0m\u001b[1;33m(\u001b[0m\u001b[1;34m'The Pillow package is required to use this function.'\u001b[0m\u001b[1;33m)\u001b[0m\u001b[1;33m\u001b[0m\u001b[1;33m\u001b[0m\u001b[0m\n\u001b[1;32m--> 144\u001b[1;33m         \u001b[1;32mreturn\u001b[0m \u001b[0mwrappedFunction\u001b[0m\u001b[1;33m(\u001b[0m\u001b[1;33m*\u001b[0m\u001b[0margs\u001b[0m\u001b[1;33m,\u001b[0m \u001b[1;33m**\u001b[0m\u001b[0mkwargs\u001b[0m\u001b[1;33m)\u001b[0m\u001b[1;33m\u001b[0m\u001b[1;33m\u001b[0m\u001b[0m\n\u001b[0m\u001b[0;32m    145\u001b[0m     \u001b[1;32mreturn\u001b[0m \u001b[0mwrapper\u001b[0m\u001b[1;33m\u001b[0m\u001b[1;33m\u001b[0m\u001b[0m\n\u001b[0;32m    146\u001b[0m \u001b[1;33m\u001b[0m\u001b[0m\n",
      "\u001b[1;32m~\\AppData\\Roaming\\Python\\Python39\\site-packages\\pyscreeze\\__init__.py\u001b[0m in \u001b[0;36m_screenshot_win32\u001b[1;34m(imageFilename, region)\u001b[0m\n\u001b[0;32m    454\u001b[0m     \u001b[1;31m# TODO - Use the winapi to get a screenshot, and compare performance with ImageGrab.grab()\u001b[0m\u001b[1;33m\u001b[0m\u001b[1;33m\u001b[0m\u001b[1;33m\u001b[0m\u001b[0m\n\u001b[0;32m    455\u001b[0m     \u001b[1;31m# https://stackoverflow.com/a/3586280/1893164\u001b[0m\u001b[1;33m\u001b[0m\u001b[1;33m\u001b[0m\u001b[1;33m\u001b[0m\u001b[0m\n\u001b[1;32m--> 456\u001b[1;33m     \u001b[0mim\u001b[0m \u001b[1;33m=\u001b[0m \u001b[0mImageGrab\u001b[0m\u001b[1;33m.\u001b[0m\u001b[0mgrab\u001b[0m\u001b[1;33m(\u001b[0m\u001b[1;33m)\u001b[0m\u001b[1;33m\u001b[0m\u001b[1;33m\u001b[0m\u001b[0m\n\u001b[0m\u001b[0;32m    457\u001b[0m     \u001b[1;32mif\u001b[0m \u001b[0mregion\u001b[0m \u001b[1;32mis\u001b[0m \u001b[1;32mnot\u001b[0m \u001b[1;32mNone\u001b[0m\u001b[1;33m:\u001b[0m\u001b[1;33m\u001b[0m\u001b[1;33m\u001b[0m\u001b[0m\n\u001b[0;32m    458\u001b[0m         \u001b[1;32massert\u001b[0m \u001b[0mlen\u001b[0m\u001b[1;33m(\u001b[0m\u001b[0mregion\u001b[0m\u001b[1;33m)\u001b[0m \u001b[1;33m==\u001b[0m \u001b[1;36m4\u001b[0m\u001b[1;33m,\u001b[0m \u001b[1;34m'region argument must be a tuple of four ints'\u001b[0m\u001b[1;33m\u001b[0m\u001b[1;33m\u001b[0m\u001b[0m\n",
      "\u001b[1;32m~\\AppData\\Roaming\\Python\\Python39\\site-packages\\PIL\\ImageGrab.py\u001b[0m in \u001b[0;36mgrab\u001b[1;34m(bbox, include_layered_windows, all_screens, xdisplay)\u001b[0m\n\u001b[0;32m     41\u001b[0m             \u001b[1;32mreturn\u001b[0m \u001b[0mim\u001b[0m\u001b[1;33m\u001b[0m\u001b[1;33m\u001b[0m\u001b[0m\n\u001b[0;32m     42\u001b[0m         \u001b[1;32melif\u001b[0m \u001b[0msys\u001b[0m\u001b[1;33m.\u001b[0m\u001b[0mplatform\u001b[0m \u001b[1;33m==\u001b[0m \u001b[1;34m\"win32\"\u001b[0m\u001b[1;33m:\u001b[0m\u001b[1;33m\u001b[0m\u001b[1;33m\u001b[0m\u001b[0m\n\u001b[1;32m---> 43\u001b[1;33m             offset, size, data = Image.core.grabscreen_win32(\n\u001b[0m\u001b[0;32m     44\u001b[0m                 \u001b[0minclude_layered_windows\u001b[0m\u001b[1;33m,\u001b[0m \u001b[0mall_screens\u001b[0m\u001b[1;33m\u001b[0m\u001b[1;33m\u001b[0m\u001b[0m\n\u001b[0;32m     45\u001b[0m             )\n",
      "\u001b[1;31mOSError\u001b[0m: screen grab failed"
     ]
    }
   ],
   "source": [
    "#wait 4 enter game screen\n",
    "time.sleep(5)\n",
    "rounds = 0\n",
    "while True :\n",
    "    Oneclick('To_map.PNG')\n",
    "    Oneclick('Search.PNG')\n",
    "    Oneclick('Find.PNG')\n",
    "    Oneclick('Barba.PNG')\n",
    "    time.sleep(0.5)\n",
    "    Attack()\n",
    "    time.sleep(0.5)\n",
    "    Setmouse_new_troops()\n",
    "    time.sleep(0.7)\n",
    "    Setmouse_all_in()\n",
    "    time.sleep(0.7)\n",
    "    Oneclick('To_base.PNG')\n",
    "    Find('Pre_med.PNG')\n",
    "    Medic()\n",
    "    time.sleep(2)\n",
    "    Setmouse_medic_troop()\n",
    "    time.sleep(3)\n",
    "    print(\"rounds : \"+str(rounds))\n",
    "    rounds = rounds + 1"
   ]
  },
  {
   "cell_type": "code",
   "execution_count": null,
   "id": "3bb71eb7-5bec-4398-b51d-d217fdc62a32",
   "metadata": {},
   "outputs": [],
   "source": []
  }
 ],
 "metadata": {
  "kernelspec": {
   "display_name": "Python 3 (ipykernel)",
   "language": "python",
   "name": "python3"
  },
  "language_info": {
   "codemirror_mode": {
    "name": "ipython",
    "version": 3
   },
   "file_extension": ".py",
   "mimetype": "text/x-python",
   "name": "python",
   "nbconvert_exporter": "python",
   "pygments_lexer": "ipython3",
   "version": "3.9.6"
  }
 },
 "nbformat": 4,
 "nbformat_minor": 5
}
